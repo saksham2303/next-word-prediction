{
  "cells": [
    {
      "cell_type": "code",
      "execution_count": null,
      "metadata": {
        "id": "mnfu-o5Ll1LY"
      },
      "outputs": [],
      "source": [
        "import numpy as np\n",
        "from nltk.tokenize import RegexpTokenizer\n",
        "from keras.models import Sequential, load_model\n",
        "from keras.layers import LSTM\n",
        "from keras.layers.core import Dense, Activation\n",
        "from tensorflow.keras.optimizers import RMSprop\n",
        "import matplotlib.pyplot as plt\n",
        "import pickle\n",
        "import heapq"
      ]
    },
    {
      "cell_type": "code",
      "execution_count": null,
      "metadata": {
        "colab": {
          "base_uri": "https://localhost:8080/"
        },
        "id": "Dw4qLzmYmt_b",
        "outputId": "fd298274-2c30-40f2-b363-7807aca61954"
      },
      "outputs": [
        {
          "output_type": "stream",
          "name": "stdout",
          "text": [
            "corpus length: 581888\n"
          ]
        }
      ],
      "source": [
        "path = '1661-0.txt'\n",
        "text = open(path).read().lower()\n",
        "print('corpus length:', len(text))"
      ]
    },
    {
      "cell_type": "code",
      "execution_count": null,
      "metadata": {
        "id": "yKfMmw9-m5TZ"
      },
      "outputs": [],
      "source": [
        "tokenizer = RegexpTokenizer(r'\\w+')\n",
        "words = tokenizer.tokenize(text)\n"
      ]
    },
    {
      "cell_type": "code",
      "execution_count": null,
      "metadata": {
        "id": "esJVmpMOnIrp"
      },
      "outputs": [],
      "source": [
        "unique_words = np.unique(words)\n",
        "unique_word_index = dict((c, i) for i, c in enumerate(unique_words))"
      ]
    },
    {
      "cell_type": "code",
      "execution_count": null,
      "metadata": {
        "colab": {
          "base_uri": "https://localhost:8080/"
        },
        "id": "0gV7UyxnnQY3",
        "outputId": "31dfd78f-4f39-4a04-b8fc-ab9313abf2b9"
      },
      "outputs": [
        {
          "output_type": "stream",
          "name": "stdout",
          "text": [
            "['project', 'gutenberg', 's', 'the', 'adventures']\n",
            "of\n"
          ]
        }
      ],
      "source": [
        "WORD_LENGTH = 5\n",
        "prev_words = []\n",
        "next_words = []\n",
        "for i in range(len(words) - WORD_LENGTH):\n",
        "    prev_words.append(words[i:i + WORD_LENGTH])\n",
        "    next_words.append(words[i + WORD_LENGTH])\n",
        "print(prev_words[0])\n",
        "print(next_words[0])\n"
      ]
    },
    {
      "cell_type": "code",
      "execution_count": null,
      "metadata": {
        "id": "YVbYkIg7ne2Q"
      },
      "outputs": [],
      "source": [
        "X = np.zeros((len(prev_words), WORD_LENGTH, len(unique_words)), dtype=bool)\n",
        "Y = np.zeros((len(next_words), len(unique_words)), dtype=bool)\n",
        "for i, each_words in enumerate(prev_words):\n",
        "    for j, each_word in enumerate(each_words):\n",
        "        X[i, j, unique_word_index[each_word]] = 1\n",
        "    Y[i, unique_word_index[next_words[i]]] = 1"
      ]
    },
    {
      "cell_type": "code",
      "execution_count": null,
      "metadata": {
        "id": "7-IykyrYnkB_"
      },
      "outputs": [],
      "source": [
        "model = Sequential()\n",
        "model.add(LSTM(128, input_shape=(WORD_LENGTH, len(unique_words))))\n",
        "model.add(Dense(len(unique_words)))\n",
        "model.add(Activation('softmax'))\n"
      ]
    },
    {
      "cell_type": "code",
      "execution_count": null,
      "metadata": {
        "colab": {
          "base_uri": "https://localhost:8080/"
        },
        "id": "tvfGvJ9RnpMn",
        "outputId": "57b2a8a8-3bf6-4d3c-d77c-f5463324a93e"
      },
      "outputs": [
        {
          "output_type": "stream",
          "name": "stderr",
          "text": [
            "/usr/local/lib/python3.7/dist-packages/keras/optimizer_v2/rmsprop.py:130: UserWarning: The `lr` argument is deprecated, use `learning_rate` instead.\n",
            "  super(RMSprop, self).__init__(name, **kwargs)\n"
          ]
        },
        {
          "output_type": "stream",
          "name": "stdout",
          "text": [
            "Epoch 1/20\n",
            "811/811 [==============================] - 227s 277ms/step - loss: 6.0155 - accuracy: 0.1071 - val_loss: 7.1106 - val_accuracy: 0.1018\n",
            "Epoch 2/20\n",
            "811/811 [==============================] - 258s 318ms/step - loss: 5.7856 - accuracy: 0.1476 - val_loss: 7.8058 - val_accuracy: 0.1067\n",
            "Epoch 3/20\n",
            "811/811 [==============================] - 258s 318ms/step - loss: 5.7531 - accuracy: 0.1758 - val_loss: 8.0398 - val_accuracy: 0.1016\n",
            "Epoch 4/20\n",
            "811/811 [==============================] - 258s 319ms/step - loss: 5.4705 - accuracy: 0.2091 - val_loss: 8.3307 - val_accuracy: 0.1047\n",
            "Epoch 5/20\n",
            "811/811 [==============================] - 256s 316ms/step - loss: 5.1657 - accuracy: 0.2484 - val_loss: 8.2050 - val_accuracy: 0.1005\n",
            "Epoch 6/20\n",
            "811/811 [==============================] - 256s 315ms/step - loss: 4.9029 - accuracy: 0.2874 - val_loss: 8.6431 - val_accuracy: 0.0912\n",
            "Epoch 7/20\n",
            "811/811 [==============================] - 256s 316ms/step - loss: 4.7002 - accuracy: 0.3248 - val_loss: 8.7506 - val_accuracy: 0.0875\n",
            "Epoch 8/20\n",
            "811/811 [==============================] - 254s 313ms/step - loss: 4.5039 - accuracy: 0.3620 - val_loss: 8.8775 - val_accuracy: 0.0828\n",
            "Epoch 9/20\n",
            "811/811 [==============================] - 255s 315ms/step - loss: 4.3437 - accuracy: 0.3969 - val_loss: 8.8772 - val_accuracy: 0.0756\n",
            "Epoch 10/20\n",
            "811/811 [==============================] - 257s 317ms/step - loss: 4.2080 - accuracy: 0.4279 - val_loss: 9.0656 - val_accuracy: 0.0780\n",
            "Epoch 11/20\n",
            "811/811 [==============================] - 258s 318ms/step - loss: 4.0870 - accuracy: 0.4541 - val_loss: 9.0548 - val_accuracy: 0.0707\n",
            "Epoch 12/20\n",
            "811/811 [==============================] - 255s 315ms/step - loss: 4.0080 - accuracy: 0.4769 - val_loss: 9.2524 - val_accuracy: 0.0705\n",
            "Epoch 13/20\n",
            "811/811 [==============================] - 258s 318ms/step - loss: 3.9392 - accuracy: 0.4971 - val_loss: 9.2240 - val_accuracy: 0.0687\n",
            "Epoch 14/20\n",
            "811/811 [==============================] - 256s 315ms/step - loss: 3.8584 - accuracy: 0.5163 - val_loss: 9.1910 - val_accuracy: 0.0676\n",
            "Epoch 15/20\n",
            "811/811 [==============================] - 253s 312ms/step - loss: 3.7712 - accuracy: 0.5352 - val_loss: 9.2211 - val_accuracy: 0.0718\n",
            "Epoch 16/20\n",
            "811/811 [==============================] - 253s 312ms/step - loss: 3.6925 - accuracy: 0.5520 - val_loss: 9.3281 - val_accuracy: 0.0685\n",
            "Epoch 17/20\n",
            "811/811 [==============================] - 261s 322ms/step - loss: 3.6535 - accuracy: 0.5626 - val_loss: 9.3208 - val_accuracy: 0.0644\n",
            "Epoch 18/20\n",
            "811/811 [==============================] - 261s 322ms/step - loss: 3.6133 - accuracy: 0.5727 - val_loss: 9.3002 - val_accuracy: 0.0657\n",
            "Epoch 19/20\n",
            "811/811 [==============================] - 261s 322ms/step - loss: 3.5545 - accuracy: 0.5823 - val_loss: 9.3799 - val_accuracy: 0.0622\n",
            "Epoch 20/20\n",
            "811/811 [==============================] - 261s 322ms/step - loss: 3.5092 - accuracy: 0.5902 - val_loss: 9.2764 - val_accuracy: 0.0659\n"
          ]
        }
      ],
      "source": [
        "optimizer = RMSprop(lr=0.01)\n",
        "model.compile(loss='categorical_crossentropy', optimizer=optimizer, metrics=['accuracy'])\n",
        "history = model.fit(X, Y, validation_split=0.05, batch_size=128, epochs=20, shuffle=True).history"
      ]
    },
    {
      "cell_type": "code",
      "execution_count": null,
      "metadata": {
        "id": "TwxyoIvGntA8"
      },
      "outputs": [],
      "source": [
        "model.save('keras_next_word_model.h5')\n",
        "pickle.dump(history, open(\"history.p\", \"wb\"))\n",
        "model = load_model('keras_next_word_model.h5')\n",
        "history = pickle.load(open(\"history.p\", \"rb\"))"
      ]
    },
    {
      "cell_type": "code",
      "execution_count": null,
      "metadata": {
        "colab": {
          "base_uri": "https://localhost:8080/"
        },
        "id": "RSehLZC4raRx",
        "outputId": "99b1a28c-8182-4c87-e92e-5caf66b93e85"
      },
      "outputs": [
        {
          "output_type": "execute_result",
          "data": {
            "text/plain": [
              "{'accuracy': [0.10708468407392502,\n",
              "  0.147640198469162,\n",
              "  0.1757630705833435,\n",
              "  0.2091095745563507,\n",
              "  0.24840255081653595,\n",
              "  0.2873871326446533,\n",
              "  0.32482001185417175,\n",
              "  0.3620312511920929,\n",
              "  0.3968523144721985,\n",
              "  0.42792433500289917,\n",
              "  0.45408108830451965,\n",
              "  0.4768839478492737,\n",
              "  0.49705567955970764,\n",
              "  0.5162540078163147,\n",
              "  0.5351921319961548,\n",
              "  0.5520002841949463,\n",
              "  0.56261146068573,\n",
              "  0.5726828575134277,\n",
              "  0.5822820067405701,\n",
              "  0.5902138352394104],\n",
              " 'loss': [6.015527725219727,\n",
              "  5.785642623901367,\n",
              "  5.753149509429932,\n",
              "  5.47052526473999,\n",
              "  5.16569709777832,\n",
              "  4.902949810028076,\n",
              "  4.700191497802734,\n",
              "  4.503874778747559,\n",
              "  4.343661308288574,\n",
              "  4.20799446105957,\n",
              "  4.086950778961182,\n",
              "  4.007993221282959,\n",
              "  3.9392402172088623,\n",
              "  3.8584141731262207,\n",
              "  3.7712318897247314,\n",
              "  3.6924688816070557,\n",
              "  3.6534667015075684,\n",
              "  3.6133320331573486,\n",
              "  3.5544545650482178,\n",
              "  3.5091586112976074],\n",
              " 'val_accuracy': [0.10179421305656433,\n",
              "  0.10673745721578598,\n",
              "  0.10161112993955612,\n",
              "  0.10472354292869568,\n",
              "  0.10051263123750687,\n",
              "  0.0911753922700882,\n",
              "  0.08751372992992401,\n",
              "  0.08275356888771057,\n",
              "  0.07561332732439041,\n",
              "  0.07799340784549713,\n",
              "  0.07067008316516876,\n",
              "  0.07048700004816055,\n",
              "  0.06865616887807846,\n",
              "  0.0675576701760292,\n",
              "  0.07176858186721802,\n",
              "  0.06847308576107025,\n",
              "  0.06444525718688965,\n",
              "  0.06572683900594711,\n",
              "  0.06224825978279114,\n",
              "  0.06590992212295532],\n",
              " 'val_loss': [7.110595703125,\n",
              "  7.805809020996094,\n",
              "  8.039833068847656,\n",
              "  8.330745697021484,\n",
              "  8.204977989196777,\n",
              "  8.64309024810791,\n",
              "  8.750636100769043,\n",
              "  8.877511978149414,\n",
              "  8.877168655395508,\n",
              "  9.06556224822998,\n",
              "  9.05483341217041,\n",
              "  9.252357482910156,\n",
              "  9.22397518157959,\n",
              "  9.191043853759766,\n",
              "  9.221147537231445,\n",
              "  9.328134536743164,\n",
              "  9.32076358795166,\n",
              "  9.300248146057129,\n",
              "  9.379901885986328,\n",
              "  9.276361465454102]}"
            ]
          },
          "metadata": {},
          "execution_count": 110
        }
      ],
      "source": [
        "history"
      ]
    },
    {
      "cell_type": "code",
      "execution_count": null,
      "metadata": {
        "colab": {
          "base_uri": "https://localhost:8080/",
          "height": 312
        },
        "id": "qznjSxHmre-A",
        "outputId": "b44d73cc-260c-439a-f5cd-e5b4e309fd0c"
      },
      "outputs": [
        {
          "output_type": "execute_result",
          "data": {
            "text/plain": [
              "<matplotlib.legend.Legend at 0x7ffae17989d0>"
            ]
          },
          "metadata": {},
          "execution_count": 111
        },
        {
          "output_type": "display_data",
          "data": {
            "image/png": "[encoded data removed]",
            "text/plain": [
              "<Figure size 432x288 with 1 Axes>"
            ]
          },
          "metadata": {
            "needs_background": "light"
          }
        }
      ],
      "source": [
        "plt.plot(history['accuracy'])\n",
        "plt.plot(history['val_accuracy'])\n",
        "plt.title('model accuracy')\n",
        "plt.ylabel('accuracy')\n",
        "plt.xlabel('epoch')\n",
        "plt.legend(['train', 'test'], loc='upper left')"
      ]
    },
    {
      "cell_type": "code",
      "execution_count": null,
      "metadata": {
        "colab": {
          "base_uri": "https://localhost:8080/",
          "height": 312
        },
        "id": "alXRWfpIrrav",
        "outputId": "4375d014-6939-47d7-a4c1-af74df56f90a"
      },
      "outputs": [
        {
          "output_type": "execute_result",
          "data": {
            "text/plain": [
              "<matplotlib.legend.Legend at 0x7ffae17cde50>"
            ]
          },
          "metadata": {},
          "execution_count": 112
        },
        {
          "output_type": "display_data",
          "data": {
            "image/png": "[encoded data removed]",
            "text/plain": [
              "<Figure size 432x288 with 1 Axes>"
            ]
          },
          "metadata": {
            "needs_background": "light"
          }
        }
      ],
      "source": [
        "plt.plot(history['loss'])\n",
        "plt.plot(history['val_loss'])\n",
        "plt.title('model loss')\n",
        "plt.ylabel('loss')\n",
        "plt.xlabel('epoch')\n",
        "plt.legend(['train', 'test'], loc='upper left')"
      ]
    },
    {
      "cell_type": "code",
      "execution_count": null,
      "metadata": {
        "colab": {
          "base_uri": "https://localhost:8080/"
        },
        "id": "D2LxQWL6r2Gf",
        "outputId": "4b1a344c-ed94-48f6-f046-d9154b327371"
      },
      "outputs": [
        {
          "output_type": "stream",
          "name": "stdout",
          "text": [
            "it\n",
            "is\n",
            "not\n",
            "a\n",
            "lack\n"
          ]
        },
        {
          "output_type": "execute_result",
          "data": {
            "text/plain": [
              "array([[[0., 0., 0., ..., 0., 0., 0.],\n",
              "        [0., 0., 0., ..., 0., 0., 0.],\n",
              "        [0., 0., 0., ..., 0., 0., 0.],\n",
              "        [0., 0., 0., ..., 0., 0., 0.],\n",
              "        [0., 0., 0., ..., 0., 0., 0.]]])"
            ]
          },
          "metadata": {},
          "execution_count": 113
        }
      ],
      "source": [
        "def prepare_input(text):\n",
        "    x = np.zeros((1, WORD_LENGTH, len(unique_words)))\n",
        "    \n",
        "    for t, word in enumerate(text.split()):\n",
        "        print(word)\n",
        "        x[0, t, unique_word_index[word]] = 1\n",
        "    \n",
        "    return x\n",
        "prepare_input(\"It is not a lack\".lower())"
      ]
    },
    {
      "cell_type": "code",
      "execution_count": null,
      "metadata": {
        "id": "KysaGRiar9th"
      },
      "outputs": [],
      "source": [
        "def sample(preds, top_n=3):\n",
        "    preds = np.asarray(preds).astype('float64')\n",
        "    preds = np.log(preds)\n",
        "    exp_preds = np.exp(preds)\n",
        "    preds = exp_preds / np.sum(exp_preds)\n",
        "\n",
        "    return heapq.nlargest(top_n, range(len(preds)), preds.take)"
      ]
    },
    {
      "cell_type": "code",
      "execution_count": null,
      "metadata": {
        "id": "TICMDRXnsCdF"
      },
      "outputs": [],
      "source": [
        "def predict_completion(text):\n",
        "    original_text = text\n",
        "    generated = text\n",
        "    completion = ''\n",
        "    while True:\n",
        "        x = prepare_input(text)\n",
        "        preds = model.predict(x, verbose=0)[0]\n",
        "        next_index = sample(preds, top_n=1)[0]\n",
        "        next_char = indices_char[next_index]\n",
        "        text = text[1:] + next_char\n",
        "        completion += next_char\n",
        "        \n",
        "        if len(original_text + completion) + 2 > len(original_text) and next_char == ' ':\n",
        "            return completion"
      ]
    },
    {
      "cell_type": "code",
      "execution_count": null,
      "metadata": {
        "id": "JnVG9mRftiPr"
      },
      "outputs": [],
      "source": [
        "def predict_completions(text, n=3):\n",
        "    x = prepare_input(text)\n",
        "    preds = model.predict(x, verbose=0)[0]\n",
        "    next_indices = sample(preds, n)\n",
        "    \n",
        "    return [indices_char[idx] + predict_completion(text[1:] + indices_char[idx]) for idx in next_indices]"
      ]
    },
    {
      "cell_type": "code",
      "execution_count": null,
      "metadata": {
        "id": "JABfpwJFtl11"
      },
      "outputs": [],
      "source": [
        "quotes = [\n",
        "    \"It is not a lack of love, but a lack of friendship that makes unhappy marriages.\",\n",
        "    \"That which does not kill us makes us stronger.\",\n",
        "    \"I'm not upset that you lied to me, I'm upset that from now on I can't believe you.\",\n",
        "    \n",
        "]"
      ]
    },
    {
      "cell_type": "code",
      "execution_count": null,
      "metadata": {
        "colab": {
          "base_uri": "https://localhost:8080/"
        },
        "id": "Ykx-SdSbtqG4",
        "outputId": "5cf26b24-e726-432c-deb0-cd120a96f496"
      },
      "outputs": [
        {
          "output_type": "stream",
          "name": "stdout",
          "text": [
            "it is not a lack of love but a lack of \n",
            "['the ', 'an ', 'such ', 'man ', 'present, ']\n",
            "that which does not kill us makes us st\n",
            "['ength ', 'uggle ', 'ong ', 'ange ', 'ive ']\n",
            "i m not upset that you lied to me i m u\n",
            "['nder ', 'pon ', 'ses ', 't ', 'uder ']\n"
          ]
        }
      ],
      "source": [
        "import re\n",
        "\n",
        "for q in quotes:\n",
        "    q = re.sub('[^A-Za-z0-9]+', ' ', q)\n",
        "    seq = q[:39].lower()\n",
        "    print(seq)\n",
        "    \n",
        "    print(predict_completions(seq,5))\n",
        "    \n"
      ]
    },
    {
      "cell_type": "code",
      "execution_count": null,
      "metadata": {
        "id": "Q2MsMUn-tsxZ"
      },
      "outputs": [],
      "source": [
        ""
      ]
    }
  ],
  "metadata": {
    "colab": {
      "name": "next_wordpredict.ipynb",
      "provenance": []
    },
    "kernelspec": {
      "display_name": "Python 3",
      "name": "python3"
    },
    "language_info": {
      "name": "python"
    }
  },
  "nbformat": 4,
  "nbformat_minor": 0
}